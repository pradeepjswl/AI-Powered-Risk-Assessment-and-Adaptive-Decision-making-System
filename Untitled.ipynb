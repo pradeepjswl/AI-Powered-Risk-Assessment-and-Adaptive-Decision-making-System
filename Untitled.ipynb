{
 "cells": [
  {
   "cell_type": "code",
   "execution_count": 1,
   "id": "766d80d8",
   "metadata": {},
   "outputs": [
    {
     "name": "stdout",
     "output_type": "stream",
     "text": [
      "Collecting images for sleep-ok\n",
      "Collecting images for open-eye\n",
      "Collecting images for yawn-ok\n",
      "Image collection complete.\n"
     ]
    }
   ],
   "source": [
    "import cv2\n",
    "import os\n",
    "import time\n",
    "import uuid\n",
    "\n",
    "# Define paths\n",
    "IMAGES_PATH = \"Tensorflow/workspace/images/collectedimages\"  # Ensure correct path formatting\n",
    "labels = [\"sleep-ok\", \"open-eye\",\"yawn-ok\"]  # Add your actual labels\n",
    "number_imgs = 15  # Define how many images to capture per label\n",
    "\n",
    "# Create directories if they don't exist\n",
    "for label in labels:\n",
    "    label_path = os.path.join(IMAGES_PATH, label)\n",
    "    os.makedirs(label_path, exist_ok=True)\n",
    "    \n",
    "    cap = cv2.VideoCapture(0)  # Initialize webcam\n",
    "    if not cap.isOpened():\n",
    "        print(f\"Error: Could not open webcam for label {label}\")\n",
    "        continue\n",
    "\n",
    "    print(f'Collecting images for {label}')\n",
    "    time.sleep(2)  # Allow camera to warm up\n",
    "\n",
    "    for imgnum in range(number_imgs):\n",
    "        ret, frame = cap.read()\n",
    "        if not ret:\n",
    "            print(f\"Error: Failed to capture image {imgnum} for {label}\")\n",
    "            continue\n",
    "\n",
    "        imagename = os.path.join(label_path, f\"{label}.{uuid.uuid1()}.jpg\")\n",
    "        cv2.imwrite(imagename, frame)\n",
    "\n",
    "        cv2.imshow('frame', frame)\n",
    "        if cv2.waitKey(1) & 0xFF == ord('q'):  # Press 'q' to quit early\n",
    "            break\n",
    "\n",
    "        time.sleep(2)  # Delay before next capture\n",
    "\n",
    "    cap.release()  # Release webcam after each label\n",
    "    cv2.destroyAllWindows()  # Close OpenCV windows\n",
    "\n",
    "print(\"Image collection complete.\")"
   ]
  }
 ],
 "metadata": {
  "kernelspec": {
   "display_name": "Python 3 (ipykernel)",
   "language": "python",
   "name": "python3"
  },
  "language_info": {
   "codemirror_mode": {
    "name": "ipython",
    "version": 3
   },
   "file_extension": ".py",
   "mimetype": "text/x-python",
   "name": "python",
   "nbconvert_exporter": "python",
   "pygments_lexer": "ipython3",
   "version": "3.11.5"
  }
 },
 "nbformat": 4,
 "nbformat_minor": 5
}
